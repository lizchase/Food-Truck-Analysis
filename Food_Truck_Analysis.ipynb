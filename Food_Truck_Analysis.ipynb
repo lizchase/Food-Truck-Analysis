{
  "nbformat": 4,
  "nbformat_minor": 0,
  "metadata": {
    "colab": {
      "provenance": [],
      "collapsed_sections": [
        "4k8nJyFemMBY"
      ]
    },
    "kernelspec": {
      "name": "python3",
      "display_name": "Python 3"
    },
    "language_info": {
      "name": "python"
    }
  },
  "cells": [
    {
      "cell_type": "markdown",
      "metadata": {
        "id": "ZSBjGiLtkL8Z"
      },
      "source": [
        "#Task 1: Define the Problem"
      ]
    },
    {
      "cell_type": "markdown",
      "source": [
        "### Choose the best model to predict the profit of a food truck based on this data set."
      ],
      "metadata": {
        "id": "SRffAEZMkikd"
      }
    },
    {
      "cell_type": "markdown",
      "metadata": {
        "id": "SYOM7cJ_kiY1"
      },
      "source": [
        "#Task 2a: Install the Needed Libraries"
      ]
    },
    {
      "cell_type": "code",
      "metadata": {
        "id": "ft8kSvTUkiUd"
      },
      "source": [
        "# Already installed"
      ],
      "execution_count": 110,
      "outputs": []
    },
    {
      "cell_type": "markdown",
      "source": [],
      "metadata": {
        "id": "VQu_c58O5gbJ"
      }
    },
    {
      "cell_type": "markdown",
      "metadata": {
        "id": "OZNxHMuSkiON"
      },
      "source": [
        "#Task 2b: Import the Needed Libraries"
      ]
    },
    {
      "cell_type": "code",
      "metadata": {
        "id": "HPsfw4s7kiKk"
      },
      "source": [
        "import pandas as pd\n",
        "import numpy as np\n",
        "import matplotlib.pyplot as plt\n",
        "import seaborn as sns\n",
        "import pickle\n",
        "sns.set()\n",
        "\n",
        "from sklearn.preprocessing import StandardScaler\n",
        "from sklearn.model_selection import train_test_split\n",
        "from sklearn.linear_model import LinearRegression\n",
        "from sklearn.tree import DecisionTreeRegressor\n",
        "from sklearn.ensemble import RandomForestRegressor\n",
        "from sklearn.svm import SVR #Support Vector Regression"
      ],
      "execution_count": 111,
      "outputs": []
    },
    {
      "cell_type": "markdown",
      "metadata": {
        "id": "umeaYS-SkiGU"
      },
      "source": [
        "#Task 3: Load the Data"
      ]
    },
    {
      "cell_type": "code",
      "metadata": {
        "id": "loYU2Pg3kiCS"
      },
      "source": [
        "df = pd.read_csv('https://raw.githubusercontent.com/glopez21/ML-Data/main/food_truck_data.txt')"
      ],
      "execution_count": 112,
      "outputs": []
    },
    {
      "cell_type": "markdown",
      "metadata": {
        "id": "OTaEVKXAkh-B"
      },
      "source": [
        "#Task 4: Perform Data Exploratory Analysis (EDA)"
      ]
    },
    {
      "cell_type": "markdown",
      "metadata": {
        "id": "2FyPB8fMkh6U"
      },
      "source": [
        "##Show the data"
      ]
    },
    {
      "cell_type": "code",
      "metadata": {
        "id": "x9efqRclkh14",
        "colab": {
          "base_uri": "https://localhost:8080/",
          "height": 206
        },
        "outputId": "d6af8967-888c-4075-b7f4-b3a82dcb9fb8"
      },
      "source": [
        "df.head()\n",
        "\n",
        "# Only two columns of data."
      ],
      "execution_count": 113,
      "outputs": [
        {
          "output_type": "execute_result",
          "data": {
            "text/plain": [
              "   Population   Profit\n",
              "0      6.1101  17.5920\n",
              "1      5.5277   9.1302\n",
              "2      8.5186  13.6620\n",
              "3      7.0032  11.8540\n",
              "4      5.8598   6.8233"
            ],
            "text/html": [
              "\n",
              "  <div id=\"df-34c973fa-1fe5-4291-9929-8952c3090c74\" class=\"colab-df-container\">\n",
              "    <div>\n",
              "<style scoped>\n",
              "    .dataframe tbody tr th:only-of-type {\n",
              "        vertical-align: middle;\n",
              "    }\n",
              "\n",
              "    .dataframe tbody tr th {\n",
              "        vertical-align: top;\n",
              "    }\n",
              "\n",
              "    .dataframe thead th {\n",
              "        text-align: right;\n",
              "    }\n",
              "</style>\n",
              "<table border=\"1\" class=\"dataframe\">\n",
              "  <thead>\n",
              "    <tr style=\"text-align: right;\">\n",
              "      <th></th>\n",
              "      <th>Population</th>\n",
              "      <th>Profit</th>\n",
              "    </tr>\n",
              "  </thead>\n",
              "  <tbody>\n",
              "    <tr>\n",
              "      <th>0</th>\n",
              "      <td>6.1101</td>\n",
              "      <td>17.5920</td>\n",
              "    </tr>\n",
              "    <tr>\n",
              "      <th>1</th>\n",
              "      <td>5.5277</td>\n",
              "      <td>9.1302</td>\n",
              "    </tr>\n",
              "    <tr>\n",
              "      <th>2</th>\n",
              "      <td>8.5186</td>\n",
              "      <td>13.6620</td>\n",
              "    </tr>\n",
              "    <tr>\n",
              "      <th>3</th>\n",
              "      <td>7.0032</td>\n",
              "      <td>11.8540</td>\n",
              "    </tr>\n",
              "    <tr>\n",
              "      <th>4</th>\n",
              "      <td>5.8598</td>\n",
              "      <td>6.8233</td>\n",
              "    </tr>\n",
              "  </tbody>\n",
              "</table>\n",
              "</div>\n",
              "    <div class=\"colab-df-buttons\">\n",
              "\n",
              "  <div class=\"colab-df-container\">\n",
              "    <button class=\"colab-df-convert\" onclick=\"convertToInteractive('df-34c973fa-1fe5-4291-9929-8952c3090c74')\"\n",
              "            title=\"Convert this dataframe to an interactive table.\"\n",
              "            style=\"display:none;\">\n",
              "\n",
              "  <svg xmlns=\"http://www.w3.org/2000/svg\" height=\"24px\" viewBox=\"0 -960 960 960\">\n",
              "    <path d=\"M120-120v-720h720v720H120Zm60-500h600v-160H180v160Zm220 220h160v-160H400v160Zm0 220h160v-160H400v160ZM180-400h160v-160H180v160Zm440 0h160v-160H620v160ZM180-180h160v-160H180v160Zm440 0h160v-160H620v160Z\"/>\n",
              "  </svg>\n",
              "    </button>\n",
              "\n",
              "  <style>\n",
              "    .colab-df-container {\n",
              "      display:flex;\n",
              "      gap: 12px;\n",
              "    }\n",
              "\n",
              "    .colab-df-convert {\n",
              "      background-color: #E8F0FE;\n",
              "      border: none;\n",
              "      border-radius: 50%;\n",
              "      cursor: pointer;\n",
              "      display: none;\n",
              "      fill: #1967D2;\n",
              "      height: 32px;\n",
              "      padding: 0 0 0 0;\n",
              "      width: 32px;\n",
              "    }\n",
              "\n",
              "    .colab-df-convert:hover {\n",
              "      background-color: #E2EBFA;\n",
              "      box-shadow: 0px 1px 2px rgba(60, 64, 67, 0.3), 0px 1px 3px 1px rgba(60, 64, 67, 0.15);\n",
              "      fill: #174EA6;\n",
              "    }\n",
              "\n",
              "    .colab-df-buttons div {\n",
              "      margin-bottom: 4px;\n",
              "    }\n",
              "\n",
              "    [theme=dark] .colab-df-convert {\n",
              "      background-color: #3B4455;\n",
              "      fill: #D2E3FC;\n",
              "    }\n",
              "\n",
              "    [theme=dark] .colab-df-convert:hover {\n",
              "      background-color: #434B5C;\n",
              "      box-shadow: 0px 1px 3px 1px rgba(0, 0, 0, 0.15);\n",
              "      filter: drop-shadow(0px 1px 2px rgba(0, 0, 0, 0.3));\n",
              "      fill: #FFFFFF;\n",
              "    }\n",
              "  </style>\n",
              "\n",
              "    <script>\n",
              "      const buttonEl =\n",
              "        document.querySelector('#df-34c973fa-1fe5-4291-9929-8952c3090c74 button.colab-df-convert');\n",
              "      buttonEl.style.display =\n",
              "        google.colab.kernel.accessAllowed ? 'block' : 'none';\n",
              "\n",
              "      async function convertToInteractive(key) {\n",
              "        const element = document.querySelector('#df-34c973fa-1fe5-4291-9929-8952c3090c74');\n",
              "        const dataTable =\n",
              "          await google.colab.kernel.invokeFunction('convertToInteractive',\n",
              "                                                    [key], {});\n",
              "        if (!dataTable) return;\n",
              "\n",
              "        const docLinkHtml = 'Like what you see? Visit the ' +\n",
              "          '<a target=\"_blank\" href=https://colab.research.google.com/notebooks/data_table.ipynb>data table notebook</a>'\n",
              "          + ' to learn more about interactive tables.';\n",
              "        element.innerHTML = '';\n",
              "        dataTable['output_type'] = 'display_data';\n",
              "        await google.colab.output.renderOutput(dataTable, element);\n",
              "        const docLink = document.createElement('div');\n",
              "        docLink.innerHTML = docLinkHtml;\n",
              "        element.appendChild(docLink);\n",
              "      }\n",
              "    </script>\n",
              "  </div>\n",
              "\n",
              "\n",
              "<div id=\"df-92b4fbc4-e71f-4f2d-9e6d-cea522b8df9a\">\n",
              "  <button class=\"colab-df-quickchart\" onclick=\"quickchart('df-92b4fbc4-e71f-4f2d-9e6d-cea522b8df9a')\"\n",
              "            title=\"Suggest charts\"\n",
              "            style=\"display:none;\">\n",
              "\n",
              "<svg xmlns=\"http://www.w3.org/2000/svg\" height=\"24px\"viewBox=\"0 0 24 24\"\n",
              "     width=\"24px\">\n",
              "    <g>\n",
              "        <path d=\"M19 3H5c-1.1 0-2 .9-2 2v14c0 1.1.9 2 2 2h14c1.1 0 2-.9 2-2V5c0-1.1-.9-2-2-2zM9 17H7v-7h2v7zm4 0h-2V7h2v10zm4 0h-2v-4h2v4z\"/>\n",
              "    </g>\n",
              "</svg>\n",
              "  </button>\n",
              "\n",
              "<style>\n",
              "  .colab-df-quickchart {\n",
              "      --bg-color: #E8F0FE;\n",
              "      --fill-color: #1967D2;\n",
              "      --hover-bg-color: #E2EBFA;\n",
              "      --hover-fill-color: #174EA6;\n",
              "      --disabled-fill-color: #AAA;\n",
              "      --disabled-bg-color: #DDD;\n",
              "  }\n",
              "\n",
              "  [theme=dark] .colab-df-quickchart {\n",
              "      --bg-color: #3B4455;\n",
              "      --fill-color: #D2E3FC;\n",
              "      --hover-bg-color: #434B5C;\n",
              "      --hover-fill-color: #FFFFFF;\n",
              "      --disabled-bg-color: #3B4455;\n",
              "      --disabled-fill-color: #666;\n",
              "  }\n",
              "\n",
              "  .colab-df-quickchart {\n",
              "    background-color: var(--bg-color);\n",
              "    border: none;\n",
              "    border-radius: 50%;\n",
              "    cursor: pointer;\n",
              "    display: none;\n",
              "    fill: var(--fill-color);\n",
              "    height: 32px;\n",
              "    padding: 0;\n",
              "    width: 32px;\n",
              "  }\n",
              "\n",
              "  .colab-df-quickchart:hover {\n",
              "    background-color: var(--hover-bg-color);\n",
              "    box-shadow: 0 1px 2px rgba(60, 64, 67, 0.3), 0 1px 3px 1px rgba(60, 64, 67, 0.15);\n",
              "    fill: var(--button-hover-fill-color);\n",
              "  }\n",
              "\n",
              "  .colab-df-quickchart-complete:disabled,\n",
              "  .colab-df-quickchart-complete:disabled:hover {\n",
              "    background-color: var(--disabled-bg-color);\n",
              "    fill: var(--disabled-fill-color);\n",
              "    box-shadow: none;\n",
              "  }\n",
              "\n",
              "  .colab-df-spinner {\n",
              "    border: 2px solid var(--fill-color);\n",
              "    border-color: transparent;\n",
              "    border-bottom-color: var(--fill-color);\n",
              "    animation:\n",
              "      spin 1s steps(1) infinite;\n",
              "  }\n",
              "\n",
              "  @keyframes spin {\n",
              "    0% {\n",
              "      border-color: transparent;\n",
              "      border-bottom-color: var(--fill-color);\n",
              "      border-left-color: var(--fill-color);\n",
              "    }\n",
              "    20% {\n",
              "      border-color: transparent;\n",
              "      border-left-color: var(--fill-color);\n",
              "      border-top-color: var(--fill-color);\n",
              "    }\n",
              "    30% {\n",
              "      border-color: transparent;\n",
              "      border-left-color: var(--fill-color);\n",
              "      border-top-color: var(--fill-color);\n",
              "      border-right-color: var(--fill-color);\n",
              "    }\n",
              "    40% {\n",
              "      border-color: transparent;\n",
              "      border-right-color: var(--fill-color);\n",
              "      border-top-color: var(--fill-color);\n",
              "    }\n",
              "    60% {\n",
              "      border-color: transparent;\n",
              "      border-right-color: var(--fill-color);\n",
              "    }\n",
              "    80% {\n",
              "      border-color: transparent;\n",
              "      border-right-color: var(--fill-color);\n",
              "      border-bottom-color: var(--fill-color);\n",
              "    }\n",
              "    90% {\n",
              "      border-color: transparent;\n",
              "      border-bottom-color: var(--fill-color);\n",
              "    }\n",
              "  }\n",
              "</style>\n",
              "\n",
              "  <script>\n",
              "    async function quickchart(key) {\n",
              "      const quickchartButtonEl =\n",
              "        document.querySelector('#' + key + ' button');\n",
              "      quickchartButtonEl.disabled = true;  // To prevent multiple clicks.\n",
              "      quickchartButtonEl.classList.add('colab-df-spinner');\n",
              "      try {\n",
              "        const charts = await google.colab.kernel.invokeFunction(\n",
              "            'suggestCharts', [key], {});\n",
              "      } catch (error) {\n",
              "        console.error('Error during call to suggestCharts:', error);\n",
              "      }\n",
              "      quickchartButtonEl.classList.remove('colab-df-spinner');\n",
              "      quickchartButtonEl.classList.add('colab-df-quickchart-complete');\n",
              "    }\n",
              "    (() => {\n",
              "      let quickchartButtonEl =\n",
              "        document.querySelector('#df-92b4fbc4-e71f-4f2d-9e6d-cea522b8df9a button');\n",
              "      quickchartButtonEl.style.display =\n",
              "        google.colab.kernel.accessAllowed ? 'block' : 'none';\n",
              "    })();\n",
              "  </script>\n",
              "</div>\n",
              "\n",
              "    </div>\n",
              "  </div>\n"
            ],
            "application/vnd.google.colaboratory.intrinsic+json": {
              "type": "dataframe",
              "summary": "{\n  \"name\": \"# Only two columns of data\",\n  \"rows\": 5,\n  \"fields\": [\n    {\n      \"column\": \"Population\",\n      \"properties\": {\n        \"dtype\": \"number\",\n        \"std\": 1.2022111158195135,\n        \"min\": 5.5277,\n        \"max\": 8.5186,\n        \"num_unique_values\": 5,\n        \"samples\": [\n          5.5277,\n          5.8598,\n          8.5186\n        ],\n        \"semantic_type\": \"\",\n        \"description\": \"\"\n      }\n    },\n    {\n      \"column\": \"Profit\",\n      \"properties\": {\n        \"dtype\": \"number\",\n        \"std\": 4.150657853882923,\n        \"min\": 6.8233,\n        \"max\": 17.592,\n        \"num_unique_values\": 5,\n        \"samples\": [\n          9.1302,\n          6.8233,\n          13.662\n        ],\n        \"semantic_type\": \"\",\n        \"description\": \"\"\n      }\n    }\n  ]\n}"
            }
          },
          "metadata": {},
          "execution_count": 113
        }
      ]
    },
    {
      "cell_type": "markdown",
      "metadata": {
        "id": "yOaCGYX5khxz"
      },
      "source": [
        "##Get Data Info"
      ]
    },
    {
      "cell_type": "code",
      "metadata": {
        "id": "YbjJUPR4khtR",
        "colab": {
          "base_uri": "https://localhost:8080/"
        },
        "outputId": "4546ff4d-a594-4402-9df8-31d9dfeee93f"
      },
      "source": [
        "df.info()\n",
        "\n",
        "# Small dataset with only 97 rows."
      ],
      "execution_count": 114,
      "outputs": [
        {
          "output_type": "stream",
          "name": "stdout",
          "text": [
            "<class 'pandas.core.frame.DataFrame'>\n",
            "RangeIndex: 97 entries, 0 to 96\n",
            "Data columns (total 2 columns):\n",
            " #   Column      Non-Null Count  Dtype  \n",
            "---  ------      --------------  -----  \n",
            " 0   Population  97 non-null     float64\n",
            " 1   Profit      97 non-null     float64\n",
            "dtypes: float64(2)\n",
            "memory usage: 1.6 KB\n"
          ]
        }
      ]
    },
    {
      "cell_type": "markdown",
      "metadata": {
        "id": "6GZsnSiMkhpo"
      },
      "source": [
        "##Find Missing Values"
      ]
    },
    {
      "cell_type": "code",
      "source": [
        "df.isnull().sum()\n",
        "\n",
        "# No Missing values"
      ],
      "metadata": {
        "colab": {
          "base_uri": "https://localhost:8080/"
        },
        "id": "a4MM-O85quBG",
        "outputId": "c7c8ee2b-85ba-44d6-bd7f-528095c0efe4"
      },
      "execution_count": 115,
      "outputs": [
        {
          "output_type": "execute_result",
          "data": {
            "text/plain": [
              "Population    0\n",
              "Profit        0\n",
              "dtype: int64"
            ]
          },
          "metadata": {},
          "execution_count": 115
        }
      ]
    },
    {
      "cell_type": "markdown",
      "metadata": {
        "id": "HvFrMzIGmMOl"
      },
      "source": [
        "#Task 5: Perform Data Cleaning"
      ]
    },
    {
      "cell_type": "code",
      "metadata": {
        "id": "S6cyPRAAmMLI"
      },
      "source": [
        "# Data is clean"
      ],
      "execution_count": 116,
      "outputs": []
    },
    {
      "cell_type": "markdown",
      "metadata": {
        "id": "nNu-6-3emMH5"
      },
      "source": [
        "#Task 6: Visualize Cleaned up Dataset"
      ]
    },
    {
      "cell_type": "code",
      "metadata": {
        "id": "0HXS27ktmMEs",
        "colab": {
          "base_uri": "https://localhost:8080/",
          "height": 498
        },
        "outputId": "3fa638c9-f873-4b78-9c00-676e3d847f13"
      },
      "source": [
        "sns.scatterplot(x = 'Population', y = 'Profit', data = df)\n",
        "plt.xlabel(\"Population in 10,000s\")\n",
        "plt.ylabel(\"Profit in $10,000s\")\n",
        "plt.title(\"Profit vs Population\")"
      ],
      "execution_count": 117,
      "outputs": [
        {
          "output_type": "execute_result",
          "data": {
            "text/plain": [
              "Text(0.5, 1.0, 'Profit vs Population')"
            ]
          },
          "metadata": {},
          "execution_count": 117
        },
        {
          "output_type": "display_data",
          "data": {
            "text/plain": [
              "<Figure size 640x480 with 1 Axes>"
            ],
            "image/png": "[encoded data removed]"
          },
          "metadata": {}
        }
      ]
    },
    {
      "cell_type": "code",
      "source": [
        "sns.displot(df['Profit'])\n",
        "plt.xlabel(\"Profit in $10,000s\")\n",
        "\n",
        "# Histogram showing distribution of Profit"
      ],
      "metadata": {
        "colab": {
          "base_uri": "https://localhost:8080/",
          "height": 519
        },
        "id": "YZPFwjGLrdGv",
        "outputId": "13541f9b-b924-488d-cb89-7e558c710769"
      },
      "execution_count": 118,
      "outputs": [
        {
          "output_type": "execute_result",
          "data": {
            "text/plain": [
              "Text(0.5, 12.44444444444443, 'Profit in $10,000s')"
            ]
          },
          "metadata": {},
          "execution_count": 118
        },
        {
          "output_type": "display_data",
          "data": {
            "text/plain": [
              "<Figure size 500x500 with 1 Axes>"
            ],
            "image/png": "[encoded data removed]"
          },
          "metadata": {}
        }
      ]
    },
    {
      "cell_type": "code",
      "source": [
        "sns.displot(df['Population'])\n",
        "plt.xlabel(\"Population in 10,000s\")\n",
        "\n",
        "# Histogram showing distribution of Population"
      ],
      "metadata": {
        "colab": {
          "base_uri": "https://localhost:8080/",
          "height": 519
        },
        "id": "H5kux6Girc-W",
        "outputId": "0d555090-ed2c-4c6a-a86a-0bf70fc88627"
      },
      "execution_count": 119,
      "outputs": [
        {
          "output_type": "execute_result",
          "data": {
            "text/plain": [
              "Text(0.5, 12.44444444444443, 'Population in 10,000s')"
            ]
          },
          "metadata": {},
          "execution_count": 119
        },
        {
          "output_type": "display_data",
          "data": {
            "text/plain": [
              "<Figure size 500x500 with 1 Axes>"
            ],
            "image/png": "[encoded data removed]"
          },
          "metadata": {}
        }
      ]
    },
    {
      "cell_type": "markdown",
      "metadata": {
        "id": "4k8nJyFemMBY"
      },
      "source": [
        "#Task 7: Conceptualize the problem"
      ]
    },
    {
      "cell_type": "code",
      "metadata": {
        "id": "gu4nQbmQm9z8"
      },
      "source": [],
      "execution_count": 119,
      "outputs": []
    },
    {
      "cell_type": "markdown",
      "metadata": {
        "id": "E9xy8hetm9wG"
      },
      "source": [
        "#Task 8: Perform Data-Split"
      ]
    },
    {
      "cell_type": "code",
      "metadata": {
        "id": "Swr_A0p1m9r6"
      },
      "source": [
        "x = df[['Population']].values\n",
        "y = df['Profit'].values"
      ],
      "execution_count": 120,
      "outputs": []
    },
    {
      "cell_type": "code",
      "source": [
        "x_train, x_test, y_train, y_test = train_test_split(x, y, test_size = 0.25, random_state = 101)"
      ],
      "metadata": {
        "id": "JVjEmB1UsWaV"
      },
      "execution_count": 121,
      "outputs": []
    },
    {
      "cell_type": "markdown",
      "metadata": {
        "id": "CCJo3OYWm9oQ"
      },
      "source": [
        "#Task 9: Choose the ML Method to follow"
      ]
    },
    {
      "cell_type": "code",
      "metadata": {
        "id": "7UJWBSspm9lM"
      },
      "source": [
        "DecisionTree_model = DecisionTreeRegressor()\n",
        "RandomForest_model = RandomForestRegressor()\n",
        "LinearRegressor_model = LinearRegression()\n",
        "SVR_model = SVR()\n",
        "\n",
        "# Because we have to train 4 models, SVR selected as alternative to test."
      ],
      "execution_count": 122,
      "outputs": []
    },
    {
      "cell_type": "markdown",
      "metadata": {
        "id": "Dmo0wF-vnXzD"
      },
      "source": [
        "#Task 10: Train the ML Model"
      ]
    },
    {
      "cell_type": "code",
      "metadata": {
        "id": "AUVPWfp9nXvl",
        "colab": {
          "base_uri": "https://localhost:8080/"
        },
        "outputId": "5f8515ea-fb52-495a-a643-2f79e50db288"
      },
      "source": [
        "models = [DecisionTree_model, RandomForest_model, LinearRegressor_model, SVR_model]\n",
        "for model in models:\n",
        "    model.fit(x_train, y_train)\n",
        "    print(f'{model} is trained!')\n",
        "\n",
        "# Train all four models using for loop."
      ],
      "execution_count": 123,
      "outputs": [
        {
          "output_type": "stream",
          "name": "stdout",
          "text": [
            "DecisionTreeRegressor() is trained!\n",
            "RandomForestRegressor() is trained!\n",
            "LinearRegression() is trained!\n",
            "SVR() is trained!\n"
          ]
        }
      ]
    },
    {
      "cell_type": "markdown",
      "metadata": {
        "id": "RYSfWcCcnXsb"
      },
      "source": [
        "#Task 11: Test the Model"
      ]
    },
    {
      "cell_type": "code",
      "metadata": {
        "id": "ssX8vUw8nXov"
      },
      "source": [
        "accuracy_DecisionTree = DecisionTree_model.score(x_test, y_test)\n",
        "accuracy_RandomForest = RandomForest_model.score(x_test, y_test)\n",
        "accuracy_LinearRegressor = LinearRegressor_model.score(x_test, y_test)\n",
        "accuracy_SVR = SVR_model.score(x_test, y_test)\n",
        "\n",
        "# Test models for accuracy using the x_test and y_test data."
      ],
      "execution_count": 124,
      "outputs": []
    },
    {
      "cell_type": "code",
      "metadata": {
        "id": "2ZDwzmMvnXmA",
        "colab": {
          "base_uri": "https://localhost:8080/"
        },
        "outputId": "ae75895f-2075-44ea-f861-202dd08e11be"
      },
      "source": [
        "models = {'DecisionTree_model': accuracy_DecisionTree, 'RandomForest_model': accuracy_RandomForest, 'LinearRegressor_model': accuracy_LinearRegressor, 'SVR_Model': accuracy_SVR}\n",
        "for model, score in models.items():\n",
        "    print(f'The accuracy score for the {model} is {round(score*100, 2)}%')\n",
        "\n",
        "# Print out the accuracy score for each model."
      ],
      "execution_count": 125,
      "outputs": [
        {
          "output_type": "stream",
          "name": "stdout",
          "text": [
            "The accuracy score for the DecisionTree_model is 29.29%\n",
            "The accuracy score for the RandomForest_model is 49.47%\n",
            "The accuracy score for the LinearRegressor_model is 68.02%\n",
            "The accuracy score for the SVR_Model is 46.98%\n"
          ]
        }
      ]
    },
    {
      "cell_type": "code",
      "metadata": {
        "id": "Wl3OIda8nXi6",
        "colab": {
          "base_uri": "https://localhost:8080/",
          "height": 498
        },
        "outputId": "d7177e00-9456-4977-9745-a5f378ece1d5"
      },
      "source": [
        "sns.scatterplot(x = 'Population', y = 'Profit', data = df)\n",
        "plt.plot(x_train, LinearRegressor_model.predict(x_train), color = \"red\")\n",
        "plt.xlabel(\"Population in 10,000s\")\n",
        "plt.ylabel(\"Profit in $10,000s\")\n",
        "plt.title(\"Profit vs Population\")\n",
        "\n",
        "# Plotting linear regression for practice."
      ],
      "execution_count": 126,
      "outputs": [
        {
          "output_type": "execute_result",
          "data": {
            "text/plain": [
              "Text(0.5, 1.0, 'Profit vs Population')"
            ]
          },
          "metadata": {},
          "execution_count": 126
        },
        {
          "output_type": "display_data",
          "data": {
            "text/plain": [
              "<Figure size 640x480 with 1 Axes>"
            ],
            "image/png": "[encoded data removed]"
          },
          "metadata": {}
        }
      ]
    },
    {
      "cell_type": "markdown",
      "source": [
        "# Exporting Model\n"
      ],
      "metadata": {
        "id": "zgBw2bS_3f3f"
      }
    },
    {
      "cell_type": "markdown",
      "source": [
        "### Choosing to export the linear regression model as it is the most accurate and the data only has one attribute.  "
      ],
      "metadata": {
        "id": "mlUVCJ2f4zBn"
      }
    },
    {
      "cell_type": "code",
      "source": [
        "from google.colab import drive\n",
        "drive.mount('/content/drive')"
      ],
      "metadata": {
        "id": "UhgGlbSI4ywG",
        "colab": {
          "base_uri": "https://localhost:8080/"
        },
        "outputId": "e6c28c89-6de7-4396-c904-45f55032456d"
      },
      "execution_count": 127,
      "outputs": [
        {
          "output_type": "stream",
          "name": "stdout",
          "text": [
            "Drive already mounted at /content/drive; to attempt to forcibly remount, call drive.mount(\"/content/drive\", force_remount=True).\n"
          ]
        }
      ]
    },
    {
      "cell_type": "code",
      "source": [
        "pickle.dump(LinearRegressor_model, open('/content/drive/MyDrive/Colab Notebooks/Predictive Analytics Course/Projects/Food Truck Analysis/FoodTruckModel.pkl', 'wb'))"
      ],
      "metadata": {
        "id": "wGtGIrBH4ytB"
      },
      "execution_count": 129,
      "outputs": []
    }
  ]
}