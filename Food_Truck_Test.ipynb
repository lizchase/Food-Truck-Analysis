{
  "nbformat": 4,
  "nbformat_minor": 0,
  "metadata": {
    "colab": {
      "provenance": []
    },
    "kernelspec": {
      "name": "python3",
      "display_name": "Python 3"
    },
    "language_info": {
      "name": "python"
    }
  },
  "cells": [
    {
      "cell_type": "code",
      "execution_count": 1,
      "metadata": {
        "id": "NJATGjsh-5hF"
      },
      "outputs": [],
      "source": [
        "import numpy as np\n",
        "import pickle\n",
        "\n",
        "# Import libraries."
      ]
    },
    {
      "cell_type": "code",
      "source": [
        "model = pickle.load(open('/content/drive/MyDrive/Colab Notebooks/Predictive Analytics Course/Projects/Food Truck Analysis/FoodTruckModel.pkl','rb'))\n",
        "\n",
        "# Load model."
      ],
      "metadata": {
        "id": "uK6aJ3LY_AAk"
      },
      "execution_count": 3,
      "outputs": []
    },
    {
      "cell_type": "code",
      "source": [
        "test_x = np.zeros((1, 1))\n",
        "test_x\n",
        "\n",
        "# Create an array with 1 zero because there is 1 variable in our model."
      ],
      "metadata": {
        "colab": {
          "base_uri": "https://localhost:8080/"
        },
        "id": "cyipAjay-_-B",
        "outputId": "10e5b9e7-eaf9-4688-b7b3-a7dcb176cd94"
      },
      "execution_count": 4,
      "outputs": [
        {
          "output_type": "execute_result",
          "data": {
            "text/plain": [
              "array([[0.]])"
            ]
          },
          "metadata": {},
          "execution_count": 4
        }
      ]
    },
    {
      "cell_type": "code",
      "source": [
        "test_x[0, 0] = int(input())/10000\n",
        "\n",
        "# Input a population to test model.\n",
        "# Convert the input to an integer then divide by 10,000 to match model."
      ],
      "metadata": {
        "colab": {
          "base_uri": "https://localhost:8080/"
        },
        "id": "ORTulVPD-_7M",
        "outputId": "34839f31-eaf8-4ce7-b341-177db595889b"
      },
      "execution_count": 46,
      "outputs": [
        {
          "name": "stdout",
          "output_type": "stream",
          "text": [
            "150000\n"
          ]
        }
      ]
    },
    {
      "cell_type": "code",
      "source": [
        "prediction = model.predict(test_x)\n",
        "print(f'The model {model} predicts a profit of ${round(prediction[0]*10000, 2)}')\n",
        "\n",
        "# Show the prediction of the model in dollars.\n",
        "# Multiply by 10,000 to get true value and round to 2 decimal points."
      ],
      "metadata": {
        "colab": {
          "base_uri": "https://localhost:8080/"
        },
        "id": "FIAb-WUc-_49",
        "outputId": "4b093b29-33be-4ed3-a502-36dec4a0fff4"
      },
      "execution_count": 47,
      "outputs": [
        {
          "output_type": "stream",
          "name": "stdout",
          "text": [
            "The model LinearRegression() predicts a profit of $136663.92\n"
          ]
        }
      ]
    }
  ]
}